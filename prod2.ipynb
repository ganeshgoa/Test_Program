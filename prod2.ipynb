{
 "cells": [
  {
   "cell_type": "code",
   "execution_count": 1,
   "id": "e678e17a",
   "metadata": {},
   "outputs": [],
   "source": [
    "#1)Добавим нужные библиотеки\n",
    "import re\n",
    "import pyshark\n",
    "import nest_asyncio\n",
    "nest_asyncio.apply()\n",
    "import json"
   ]
  },
  {
   "cell_type": "code",
   "execution_count": 2,
   "id": "69f17a27",
   "metadata": {},
   "outputs": [],
   "source": [
    "#2)Прочитаем пакеты из трейса и применим фильтр по протоколам sctp и s1ap\n",
    "capture = pyshark.FileCapture('./s1_gtv2_dia.pcapng')"
   ]
  },
  {
   "cell_type": "code",
   "execution_count": 3,
   "id": "d19fdcfc",
   "metadata": {},
   "outputs": [
    {
     "name": "stdout",
     "output_type": "stream",
     "text": [
      "DIAMETER\n",
      "{'diameter.version': '0x01', 'diameter.length': '796', 'diameter.flags': '0x40', 'diameter.flags.request': 'False', 'diameter.flags.proxyable': 'True', 'diameter.flags.error': 'False', 'diameter.flags.T': 'False', 'diameter.flags.reserved4': 'False', 'diameter.flags.reserved5': 'False', 'diameter.flags.reserved6': 'False', 'diameter.flags.reserved7': 'False', 'diameter.cmd.code': '318', 'diameter.applicationId': '16777251', 'diameter.hopbyhopid': '0x6dbd2fb7', 'diameter.endtoendid': '0x1d43930d', 'diameter.answer_to': '4', 'diameter.resp_time': '0.002483000', 'diameter.avp': '00:00:01:07:40:00:00:2c:65:70:63:2e:67:65:6e:65:77:2e:63:6f:6d:3b:30:30:30:32:36:38:37:35:36:36:3b:30:30:30:30:33:3b:30:30:30:30:30', 'diameter.avp.code': '263', 'diameter.avp.flags': '0x40', 'diameter.flags.vendorspecific': 'False', 'diameter.flags.mandatory': 'True', 'diameter.avp.flags.protected': 'False', 'diameter.avp.flags.reserved3': 'False', 'diameter.avp.flags.reserved4': 'False', 'diameter.avp.flags.reserved5': 'False', 'diameter.avp.flags.reserved6': 'False', 'diameter.avp.flags.reserved7': 'False', 'diameter.avp.len': '44', 'diameter.Session-Id': 'epc.genew.com;0002687566;00003;00000', 'diameter.Vendor-Specific-Application-Id': '00:00:01:0a:40:00:00:0c:00:00:28:af:00:00:01:02:40:00:00:0c:01:00:00:23', 'diameter.Vendor-Id': '10415', 'diameter.vendorId': '10415', 'diameter.Auth-Application-Id': '16777251', 'diameter.Result-Code': '2001', 'diameter.Origin-Host': 'hss.open-ims.test', 'diameter.avp.pad': '00:00:00', 'diameter.Origin-Realm': 'ims.mnc099.mcc460.3gppnetwork.org', 'diameter.Auth-Session-State': '1', 'diameter.avp.vendorId': '10415', 'diameter.Authentication-Info': '00:00:05:86:c0:00:00:94:00:00:28:af:00:00:05:8b:c0:00:00:10:00:00:28:af:00:00:00:00:00:00:05:a7:c0:00:00:1c:00:00:28:af:3d:13:f3:6a:3d:13:f3:6a:3d:13:f3:6a:3d:13:f3:6a:00:00:05:a8:c0:00:00:14:00:00:28:af:35:2c:99:3d:9e:e6:26:a9:00:00:05:a9:c0:00:00:1c:00:00:28:af:85:75:a2:7f:3f:5a:80:00:f0:3a:b7:54:23:59:a6:c8:00:00:05:aa:c0:00:00:2c:00:00:28:af:f6:8a:73:0f:5b:c6:09:46:48:5d:40:27:7c:9c:01:10:18:c3:30:fd:03:59:17:b3:68:f9:9d:6e:ed:e7:70:2f:00:00:05:86:c0:00:00:94:00:00:28:af:00:00:05:8b:c0:00:00:10:00:00:28:af:00:00:00:01:00:00:05:a7:c0:00:00:1c:00:00:28:af:3d:13:f3:6a:3d:13:f3:6a:3d:13:f3:6a:3d:13:f3:6a:00:00:05:a8:c0:00:00:14:00:00:28:af:35:2c:99:3d:9e:e6:26:a9:00:00:05:a9:c0:00:00:1c:00:00:28:af:85:75:a2:7f:3f:ba:80:00:93:c9:fe:53:86:43:0a:8e:00:00:05:aa:c0:00:00:2c:00:00:28:af:14:e6:fd:61:4a:ec:57:82:77:b6:c9:96:46:12:3e:0f:73:df:69:86:29:ee:bb:21:e4:0b:e5:4c:f5:03:d7:a5:00:00:05:86:c0:00:00:94:00:00:28:af:00:00:05:8b:c0:00:00:10:00:00:28:af:00:00:00:02:00:00:05:a7:c0:00:00:1c:00:00:28:af:3d:13:f3:6a:3d:13:f3:6a:3d:13:f3:6a:3d:13:f3:6a:00:00:05:a8:c0:00:00:14:00:00:28:af:35:2c:99:3d:9e:e6:26:a9:00:00:05:a9:c0:00:00:1c:00:00:28:af:85:75:a2:7f:3f:9a:80:00:65:35:be:41:3d:f4:92:b9:00:00:05:aa:c0:00:00:2c:00:00:28:af:e4:52:dc:95:27:e8:97:0b:cc:04:20:3d:da:62:72:5d:93:b5:27:7d:36:03:6a:2e:95:00:07:9d:ea:fe:11:d0:00:00:05:86:c0:00:00:94:00:00:28:af:00:00:05:8b:c0:00:00:10:00:00:28:af:00:00:00:03:00:00:05:a7:c0:00:00:1c:00:00:28:af:3d:13:f3:6a:3d:13:f3:6a:3d:13:f3:6a:3d:13:f3:6a:00:00:05:a8:c0:00:00:14:00:00:28:af:35:2c:99:3d:9e:e6:26:a9:00:00:05:a9:c0:00:00:1c:00:00:28:af:85:75:a2:7f:3f:fa:80:00:94:37:09:7f:de:9a:44:43:00:00:05:aa:c0:00:00:2c:00:00:28:af:eb:78:23:75:31:11:a8:08:c4:32:aa:cc:c8:6b:c8:bd:c2:72:76:09:1f:52:c0:5f:af:c4:70:44:4d:99:2f:a7', 'diameter.E-UTRAN-Vector': '00:00:05:8b:c0:00:00:10:00:00:28:af:00:00:00:00:00:00:05:a7:c0:00:00:1c:00:00:28:af:3d:13:f3:6a:3d:13:f3:6a:3d:13:f3:6a:3d:13:f3:6a:00:00:05:a8:c0:00:00:14:00:00:28:af:35:2c:99:3d:9e:e6:26:a9:00:00:05:a9:c0:00:00:1c:00:00:28:af:85:75:a2:7f:3f:5a:80:00:f0:3a:b7:54:23:59:a6:c8:00:00:05:aa:c0:00:00:2c:00:00:28:af:f6:8a:73:0f:5b:c6:09:46:48:5d:40:27:7c:9c:01:10:18:c3:30:fd:03:59:17:b3:68:f9:9d:6e:ed:e7:70:2f', 'diameter.Item-Number': '0', 'diameter.RAND': '3d:13:f3:6a:3d:13:f3:6a:3d:13:f3:6a:3d:13:f3:6a', 'diameter.XRES': '35:2c:99:3d:9e:e6:26:a9', 'diameter.AUTN': '85:75:a2:7f:3f:5a:80:00:f0:3a:b7:54:23:59:a6:c8', 'diameter.KASME': 'f6:8a:73:0f:5b:c6:09:46:48:5d:40:27:7c:9c:01:10:18:c3:30:fd:03:59:17:b3:68:f9:9d:6e:ed:e7:70:2f'}\n",
      "['__class__', '__delattr__', '__dir__', '__doc__', '__eq__', '__format__', '__ge__', '__getattr__', '__getattribute__', '__getstate__', '__gt__', '__hash__', '__init__', '__init_subclass__', '__le__', '__lt__', '__module__', '__ne__', '__new__', '__reduce__', '__reduce_ex__', '__repr__', '__setattr__', '__setstate__', '__sizeof__', '__slots__', '__str__', '__subclasshook__', '_all_fields', '_field_prefix', '_get_all_field_lines', '_get_all_fields_with_alternates', '_get_field_or_layer_repr', '_get_field_repr', '_layer_name', '_pretty_print_layer_fields', '_sanitize_field_name', 'answer_to', 'applicationid', 'auth_application_id', 'auth_session_state', 'authentication_info', 'autn', 'avp', 'avp_code', 'avp_flags', 'avp_flags_protected', 'avp_flags_reserved3', 'avp_flags_reserved4', 'avp_flags_reserved5', 'avp_flags_reserved6', 'avp_flags_reserved7', 'avp_len', 'avp_pad', 'avp_vendorid', 'cmd_code', 'e_utran_vector', 'endtoendid', 'field_names', 'flags', 'flags_error', 'flags_mandatory', 'flags_proxyable', 'flags_request', 'flags_reserved4', 'flags_reserved5', 'flags_reserved6', 'flags_reserved7', 'flags_t', 'flags_vendorspecific', 'get', 'get_field', 'get_field_by_showname', 'get_field_value', 'has_field', 'hopbyhopid', 'item_number', 'kasme', 'layer_name', 'length', 'origin_host', 'origin_realm', 'pretty_print', 'rand', 'raw_mode', 'resp_time', 'result_code', 'session_id', 'vendor_id', 'vendor_specific_application_id', 'vendorid', 'version', 'xres']\n",
      "318\n",
      "263\n",
      "epc.genew.com;0002687566;00003;00000\n"
     ]
    }
   ],
   "source": [
    "#3)Для более детального изучения данный блок позволяет получить все поля пакета по его номеру. \n",
    "for i in capture:\n",
    "    if i.number == '5':\n",
    "        print(i.highest_layer)\n",
    "        print(i.diameter._all_fields)\n",
    "        print(dir(i.diameter))\n",
    "        print(i.diameter.cmd_code)\n",
    "        print(i.diameter.avp_code)\n",
    "        print(i.diameter.session_id)\n",
    "        "
   ]
  },
  {
   "cell_type": "code",
   "execution_count": 23,
   "id": "7f0cffad",
   "metadata": {},
   "outputs": [
    {
     "name": "stdout",
     "output_type": "stream",
     "text": [
      "Attach Request was detected in  1  SCTP session number  0x0004\n",
      "Attach complete was detected in  29  SCTP session number  0x0004\n",
      "Attach Request was detected in  65  SCTP session number  0x0006\n",
      "Attach complete was detected in  82  SCTP session number  0x0006\n",
      "Attach Request was detected in  167  SCTP session number  0x0009\n",
      "Attach complete was detected in  184  SCTP session number  0x0009\n"
     ]
    }
   ],
   "source": [
    "# Attach request \n",
    "att_att_list = []\n",
    "att_com_list = []\n",
    "for packet in capture:\n",
    "    if (packet.highest_layer == 'S1AP'):\n",
    "        d = packet.s1ap._all_fields\n",
    "        #Находим все пакеты с кодом процедуры DownlinkNASTransport\n",
    "        if (packet.s1ap.procedurecode == '12'):\n",
    "            #Получаем идентификатор транспортной сессии SCTP\n",
    "            get_value = packet.sctp.data_sid\n",
    "            #Фильтруем пакеты в рамкой одной транспортной сессии\n",
    "            if packet.sctp.data_sid == get_value:\n",
    "                #Преобразуем пакет в словарь, затем в список\n",
    "                get_dict = dict(packet.s1ap._all_fields)\n",
    "                keys = list(get_dict.items())\n",
    "                #Делаем перебор всех значений в списке, чтобы найти пакеты, содержащие сообщение Authentication Request\n",
    "                for i in keys:\n",
    "                    if (i == ('nas-eps.nas_msg_emm_type', '0x41')):\n",
    "                        print(\"Attach Request was detected in \", packet.number, \" SCTP session number \", packet.sctp.data_sid)\n",
    "                        att_att_list.append(1)\n",
    "        if (packet.s1ap.procedurecode == '13'):\n",
    "                #С помощью фильтра оставляем лишь те пакеты, что находятся в той же sctp сессии, что и Auth. Request\n",
    "                if (packet.sctp.data_sid == get_value):\n",
    "                    #Преобразуем содержимое пакета в словарь, потом в список\n",
    "                    get_dict1 = dict(packet.s1ap._all_fields)\n",
    "                    keys1 = list(get_dict1.items())\n",
    "                    #Делаем перебор всех значений, чтобы найти пакеты содержащие сообщ. Auth. Response\n",
    "                    for o in keys1:\n",
    "                        if (o == ('nas-eps.nas_msg_emm_type', '0x43')):\n",
    "                            print(\"Attach complete was detected in \", packet.number, \" SCTP session number \", packet.sctp.data_sid)\n",
    "                            att_com_list.append(1)"
   ]
  },
  {
   "cell_type": "code",
   "execution_count": 5,
   "id": "6a5de3df",
   "metadata": {},
   "outputs": [],
   "source": [
    "# Auth request\n",
    "auth_req_list = []\n",
    "auth_res_list = []\n",
    "auth_fail_list = []\n",
    "for packet in capture:\n",
    "    if (packet.highest_layer == 'S1AP'):\n",
    "        d = packet.s1ap._all_fields\n",
    "        #Находим все пакеты с кодом процедуры DownlinkNASTransport\n",
    "        if (packet.s1ap.procedurecode == '11'):\n",
    "            #Получаем идентификатор транспортной сессии SCTP\n",
    "            get_value = packet.sctp.data_sid\n",
    "            #Фильтруем пакеты в рамкой одной транспортной сессии\n",
    "            if packet.sctp.data_sid == get_value:\n",
    "                #Преобразуем пакет в словарь, затем в список\n",
    "                get_dict = dict(packet.s1ap._all_fields)\n",
    "                keys = list(get_dict.items())\n",
    "                #Делаем перебор всех значений в списке, чтобы найти пакеты, содержащие сообщение Authentication Request\n",
    "                for i in keys:\n",
    "                    if (i == ('nas-eps.nas_msg_emm_type', '0x52')):\n",
    "                        #print(\"Auth request was detected in \", packet.number, \" SCTP session number \", packet.sctp.data_sid)\n",
    "                        auth_req_list.append(1)\n",
    "        #Находим все пакеты с кодом процедуры UplinkNASTransport\n",
    "        if (packet.s1ap.procedurecode == '13'):\n",
    "                #С помощью фильтра оставляем лишь те пакеты, что находятся в той же sctp сессии, что и Auth. Request\n",
    "                if (packet.sctp.data_sid == get_value):\n",
    "                    #Преобразуем содержимое пакета в словарь, потом в список\n",
    "                    get_dict1 = dict(packet.s1ap._all_fields)\n",
    "                    keys1 = list(get_dict1.items())\n",
    "                    #Делаем перебор всех значений, чтобы найти пакеты содержащие сообщ. Auth. Response\n",
    "                    for o in keys1:\n",
    "                        if (o == ('nas-eps.nas_msg_emm_type', '0x53')):\n",
    "                            #print(\"Auth response was detected in \", packet.number, \" SCTP session number\", packet.sctp.data_sid)\n",
    "                            auth_res_list.append(1)\n",
    "        #Находим все пакеты, в которых процедура аутентификации законочилась неуспешно\n",
    "        if (packet.s1ap.procedurecode == '13'):\n",
    "            if (packet.sctp.data_sid == get_value):\n",
    "                get_dict2 = dict(packet.s1ap._all_fields)\n",
    "                keys2 = list(get_dict2.items())\n",
    "                for p in keys2:\n",
    "                    if (p == ('nas-eps.nas_msg_emm_type', '0x5c')):\n",
    "                        #print(\"Auth failure was detected in \", packet.number, \" SCTP session number\", packet.sctp.data_sid)\n",
    "                        auth_fail_list.append(1)"
   ]
  },
  {
   "cell_type": "code",
   "execution_count": 6,
   "id": "780af86a",
   "metadata": {},
   "outputs": [],
   "source": [
    "# Security Mode\n",
    "sec_m_req = []\n",
    "sec_m_res = []\n",
    "for packet in capture:\n",
    "    if (packet.highest_layer == 'S1AP'):\n",
    "        d = packet.s1ap._all_fields\n",
    "        #Находим все пакеты с кодом процедуры DownlinkNASTransport\n",
    "        if (packet.s1ap.procedurecode == '11'):\n",
    "            #Получаем идентификатор транспортной сессии SCTP\n",
    "            get_value = packet.sctp.data_sid\n",
    "            #Фильтруем пакеты в рамкой одной транспортной сессии\n",
    "            if packet.sctp.data_sid == get_value:\n",
    "                #Преобразуем пакет в словарь, затем в список\n",
    "                get_dict = dict(packet.s1ap._all_fields)\n",
    "                keys = list(get_dict.items())\n",
    "                for i in keys:\n",
    "                    if (i == ('nas-eps.nas_msg_emm_type', '0x5d')):\n",
    "                        #print(\"Security mode command detected in \", packet.number, \" SCTP session ID\", packet.sctp.data_sid)\n",
    "                        sec_m_req.append(1)\n",
    "        if (packet.s1ap.procedurecode == '13'):\n",
    "                if (packet.sctp.data_sid == get_value):\n",
    "                    get_dict1 = dict(packet.s1ap._all_fields)\n",
    "                    keys1 = list(get_dict1.items())\n",
    "                    for o in keys1:\n",
    "                        if (o == ('nas-eps.nas_msg_emm_type', '0x5e')):\n",
    "                            #print(\"Security mode complete detected in \", packet.number, \" SCTP session ID\", packet.sctp.data_sid)\n",
    "                            sec_m_res.append(1)"
   ]
  },
  {
   "cell_type": "code",
   "execution_count": 7,
   "id": "56c30fb1",
   "metadata": {},
   "outputs": [],
   "source": [
    "# AIR\n",
    "air_list = []\n",
    "aia_list = []\n",
    "for packet in capture:\n",
    "    if (packet.highest_layer == 'DIAMETER'):\n",
    "        d = packet.diameter._all_fields\n",
    "        #Находим все пакеты с кодом процедуры DownlinkNASTransport\n",
    "        if (packet.diameter.cmd_code == '318'):\n",
    "            #Получаем идентификатор транспортной сессии SCTP\n",
    "            get_value = packet.sctp.data_sid\n",
    "            #Фильтруем пакеты в рамкой одной транспортной сессии\n",
    "            if packet.sctp.data_sid == get_value:\n",
    "                #Преобразуем пакет в словарь, затем в список\n",
    "                get_dict = dict(packet.diameter._all_fields)\n",
    "                keys = list(get_dict.items())\n",
    "                for i in keys:\n",
    "                    if (i == ('diameter.AIR-Flags', '1')):\n",
    "                        session_id = packet.diameter.session_id\n",
    "                        #print(\"AIR detected in \", packet.number, \" SCTP session ID\", packet.diameter.session_id)\n",
    "                        air_list.append(1)\n",
    "        if (packet.diameter.cmd_code == '318'):\n",
    "                if (packet.sctp.data_sid == get_value):\n",
    "                    if (packet.diameter.session_id == session_id):\n",
    "                        get_dict1 = dict(packet.diameter._all_fields)\n",
    "                        keys1 = list(get_dict1.items())\n",
    "                        for o in keys1:\n",
    "                            if (o == ('diameter.Result-Code', '2001')):\n",
    "                                #print(\"AIA \", packet.number, \" SCTP session ID\", packet.diameter.session_id)\n",
    "                                aia_list.append(1)"
   ]
  },
  {
   "cell_type": "code",
   "execution_count": 8,
   "id": "a28524be",
   "metadata": {},
   "outputs": [],
   "source": [
    "# Create Session Request\n",
    "cs_req_list = []\n",
    "cs_res_list = []\n",
    "for packet in capture:\n",
    "    if (packet.highest_layer == 'GTPV2'):\n",
    "        d = packet.gtpv2._all_fields\n",
    "        #Находим все пакеты с кодом процедуры Create Session Request\n",
    "        if (packet.gtpv2.message_type == '32'):\n",
    "            #Получаем идентификатор сессии в GTPv2\n",
    "            get_value = packet.gtpv2.seq\n",
    "            get_s11teid = packet.gtpv2.f_teid_gre_key\n",
    "            #Фильтруем пакеты в рамкой одной транспортной сессии\n",
    "            if (packet.gtpv2.seq == get_value):\n",
    "                #print(\"CSRequest detected in \", packet.number, \" Seq number \", packet.gtpv2.seq)\n",
    "                #print(\"CSRequest was with S11 MME TEID \", packet.gtpv2.f_teid_gre_key)\n",
    "                cs_req_list.append(1)\n",
    "        if (packet.gtpv2.message_type == '33'):\n",
    "                if (packet.gtpv2.seq == get_value):\n",
    "                    if (packet.gtpv2.teid == get_s11teid):\n",
    "                        #print(\"CSResponse detected in \", packet.number, \" Seq Num \", packet.gtpv2.seq)\n",
    "                        #print(\"CSResponse was with S11 SGW TIED \", packet.gtpv2.f_teid_gre_key)\n",
    "                        cs_res_list.append(1)"
   ]
  },
  {
   "cell_type": "code",
   "execution_count": 9,
   "id": "137edd4b",
   "metadata": {},
   "outputs": [],
   "source": [
    "#Modify Bearer Request\n",
    "mb_req_list = []\n",
    "mb_res_list = []\n",
    "for packet in capture:\n",
    "    if (packet.highest_layer == 'GTPV2'):\n",
    "        d = packet.gtpv2._all_fields\n",
    "        #Находим все пакеты с кодом процедуры Create Session Request\n",
    "        if (packet.gtpv2.message_type == '34'):\n",
    "            #Получаем идентификатор сессии в GTPv2\n",
    "            get_value = packet.gtpv2.seq\n",
    "            get_s11teid = packet.gtpv2.f_teid_gre_key\n",
    "            #Фильтруем пакеты в рамкой одной транспортной сессии\n",
    "            if (packet.gtpv2.seq == get_value):\n",
    "                #print(\"MBRequest detected in \", packet.number, \" Seq number \", packet.gtpv2.seq)\n",
    "                #print(\"MBRequest was with S11 MME TEID \", packet.gtpv2.f_teid_gre_key)\n",
    "                mb_req_list.append(1)\n",
    "        if (packet.gtpv2.message_type == '35'):\n",
    "                if (packet.gtpv2.seq == get_value):\n",
    "                    if (packet.gtpv2.teid == get_s11teid):\n",
    "                        #print(\"MBResponse detected in \", packet.number, \" Seq Num \", packet.gtpv2.seq)\n",
    "                        #print(\"MBResponse was with S11 SGW TIED \", packet.gtpv2.f_teid_gre_key)\n",
    "                        mb_res_list.append(1)"
   ]
  },
  {
   "cell_type": "code",
   "execution_count": 10,
   "id": "e752865b",
   "metadata": {},
   "outputs": [],
   "source": [
    "#Release Access Bearer Request\n",
    "release_bear_req_list = []\n",
    "release_bear_res_list = []\n",
    "for packet in capture:\n",
    "    if (packet.highest_layer == 'GTPV2'):\n",
    "        d = packet.gtpv2._all_fields\n",
    "        #Находим все пакеты с кодом процедуры Create Session Request\n",
    "        if (packet.gtpv2.message_type == '170'):\n",
    "            #Получаем идентификатор сессии в GTPv2\n",
    "            get_value = packet.gtpv2.seq\n",
    "            #Фильтруем пакеты в рамкой одной транспортной сессии\n",
    "            if (packet.gtpv2.seq == get_value):\n",
    "                #print(\"Release Access Bearers Request detected in \", packet.number, \" Seq number \", packet.gtpv2.seq)\n",
    "                #print(\"Release Access Bearers Request with TEID \", packet.gtpv2.teid)\n",
    "                release_bear_req_list.append(1)\n",
    "        if (packet.gtpv2.message_type == '171'):\n",
    "                if (packet.gtpv2.seq == get_value):\n",
    "                    #print(\"Release Access Bearers Response detected in \", packet.number, \" Seq Num \", packet.gtpv2.seq)\n",
    "                    #print(\"Release Access Bearers Response was with TIED \", packet.gtpv2.teid)\n",
    "                    release_bear_res_list.append(1)"
   ]
  },
  {
   "cell_type": "code",
   "execution_count": 11,
   "id": "3cf59882",
   "metadata": {},
   "outputs": [],
   "source": [
    "#Delete Bearer Request\n",
    "db_req_list = []\n",
    "db_res_list = []\n",
    "for packet in capture:\n",
    "    if (packet.highest_layer == 'GTPV2'):\n",
    "        d = packet.gtpv2._all_fields\n",
    "        #Находим все пакеты с кодом процедуры Create Session Request\n",
    "        if (packet.gtpv2.message_type == '99'):\n",
    "            #Получаем идентификатор сессии в GTPv2\n",
    "            get_value = packet.gtpv2.seq\n",
    "            #Фильтруем пакеты в рамкой одной транспортной сессии\n",
    "            if (packet.gtpv2.seq == get_value):\n",
    "                #print(\"Delete Bearer Request detected in \", packet.number, \" Seq number \", packet.gtpv2.seq)\n",
    "                #print(\"Delete Bearer Request with TEID \", packet.gtpv2.teid)\n",
    "                db_req_list.append(1)\n",
    "        if (packet.gtpv2.message_type == '100'):\n",
    "                if (packet.gtpv2.seq == get_value):\n",
    "                    #print(\"Delete Bearer Response detected in \", packet.number, \" Seq Num \", packet.gtpv2.seq)\n",
    "                    #print(\"Delete Bearer Response was with TIED \", packet.gtpv2.teid)\n",
    "                    db_res_list.append(1)"
   ]
  },
  {
   "cell_type": "code",
   "execution_count": 28,
   "id": "8d28c1de",
   "metadata": {},
   "outputs": [
    {
     "name": "stdout",
     "output_type": "stream",
     "text": [
      "Attach Request/Complete Test Passed\n",
      "There are  3  attempt   and  3  complete\n"
     ]
    }
   ],
   "source": [
    "if (len(att_att_list) > 0) and ( len(att_com_list) > 0):\n",
    "    print(\"Attach Request/Complete Test Passed\")\n",
    "    print(\"There are \", len(att_att_list), \" attempt \", \" and \", len(att_com_list), \" complete\")"
   ]
  },
  {
   "cell_type": "code",
   "execution_count": 29,
   "id": "cda09f99",
   "metadata": {},
   "outputs": [
    {
     "name": "stdout",
     "output_type": "stream",
     "text": [
      "Auth Request/Response Test Passed\n",
      "There are  4  request   and  3  response\n"
     ]
    }
   ],
   "source": [
    "if (len(auth_req_list) > 0) and ( len(auth_res_list) > 0):\n",
    "    print(\"Auth Request/Response Test Passed\")\n",
    "    print(\"There are \", len(auth_req_list), \" request \", \" and \", len(auth_res_list), \" response\")"
   ]
  },
  {
   "cell_type": "code",
   "execution_count": 30,
   "id": "97a8885e",
   "metadata": {},
   "outputs": [
    {
     "name": "stdout",
     "output_type": "stream",
     "text": [
      "Security Mode/Complete Test Passed\n",
      "There are  3  command   and  3  complete\n"
     ]
    }
   ],
   "source": [
    "if (len(sec_m_req) > 0) and ( len(sec_m_res) > 0):\n",
    "    print(\"Security Mode/Complete Test Passed\")\n",
    "    print(\"There are \", len(sec_m_req), \" command \", \" and \", len(sec_m_res), \" complete\")"
   ]
  },
  {
   "cell_type": "code",
   "execution_count": 31,
   "id": "c9985252",
   "metadata": {},
   "outputs": [
    {
     "name": "stdout",
     "output_type": "stream",
     "text": [
      "AIR/AIA Test Passed\n",
      "There are  4  AIR   and  4  AIA\n"
     ]
    }
   ],
   "source": [
    "if (len(air_list) > 0) and ( len(aia_list) > 0):\n",
    "    print(\"AIR/AIA Test Passed\")\n",
    "    print(\"There are \", len(air_list), \" AIR \", \" and \", len(aia_list), \" AIA\")"
   ]
  },
  {
   "cell_type": "code",
   "execution_count": 32,
   "id": "c67c53ff",
   "metadata": {},
   "outputs": [
    {
     "name": "stdout",
     "output_type": "stream",
     "text": [
      "Create Session Request Test Passed\n",
      "There are  9.0  session request   and  9  session respone\n"
     ]
    }
   ],
   "source": [
    "if (len(cs_req_list) > 0) and ( len(cs_res_list) > 0):\n",
    "    print(\"Create Session Request Test Passed\")\n",
    "    print(\"There are \", (len(cs_req_list)/2), \" session request \", \" and \", len(cs_res_list), \" session respone\")"
   ]
  },
  {
   "cell_type": "code",
   "execution_count": 33,
   "id": "4bff0382",
   "metadata": {},
   "outputs": [
    {
     "name": "stdout",
     "output_type": "stream",
     "text": [
      "Modify Bearer Request/Response Test Passed\n",
      "There are  13.0  modify request   and  11  modify respone\n"
     ]
    }
   ],
   "source": [
    "if (len(mb_req_list) > 0) and ( len(mb_res_list) > 0):\n",
    "    print(\"Modify Bearer Request/Response Test Passed\")\n",
    "    print(\"There are \", (len(mb_req_list)/2), \" modify request \", \" and \", len(mb_res_list), \" modify respone\")"
   ]
  },
  {
   "cell_type": "code",
   "execution_count": 36,
   "id": "214c0ab2",
   "metadata": {},
   "outputs": [
    {
     "name": "stdout",
     "output_type": "stream",
     "text": [
      "Release Bearer Test Passed\n",
      "There are  6  release request   and  2  release respone\n"
     ]
    }
   ],
   "source": [
    "if (len(release_bear_req_list) > 0) and ( len(release_bear_res_list) > 0):\n",
    "    print(\"Release Bearer Test Passed\")\n",
    "    print(\"There are \", (len(release_bear_req_list)), \" release request \", \" and \", len(release_bear_res_list), \" release respone\")"
   ]
  },
  {
   "cell_type": "code",
   "execution_count": 37,
   "id": "b3662128",
   "metadata": {},
   "outputs": [
    {
     "name": "stdout",
     "output_type": "stream",
     "text": [
      "Delete Bearer Request/Response Test Passed\n",
      "There are  3  delete request   and  4  delete respone\n"
     ]
    }
   ],
   "source": [
    "if (len(db_req_list) > 0) and ( len(db_res_list) > 0):\n",
    "    print(\"Delete Bearer Request/Response Test Passed\")\n",
    "    print(\"There are \", (len(db_req_list)), \" delete request \", \" and \", len(db_res_list), \" delete respone\")"
   ]
  },
  {
   "cell_type": "code",
   "execution_count": null,
   "id": "21df25c7",
   "metadata": {},
   "outputs": [],
   "source": []
  }
 ],
 "metadata": {
  "kernelspec": {
   "display_name": "Python 3 (ipykernel)",
   "language": "python",
   "name": "python3"
  },
  "language_info": {
   "codemirror_mode": {
    "name": "ipython",
    "version": 3
   },
   "file_extension": ".py",
   "mimetype": "text/x-python",
   "name": "python",
   "nbconvert_exporter": "python",
   "pygments_lexer": "ipython3",
   "version": "3.11.7"
  }
 },
 "nbformat": 4,
 "nbformat_minor": 5
}
